{
 "cells": [
  {
   "cell_type": "markdown",
   "metadata": {
    "application/vnd.databricks.v1+cell": {
     "cellMetadata": {},
     "inputWidgets": {},
     "nuid": "d04b358b-1e62-425f-bb53-aeab69733715",
     "showTitle": false,
     "title": ""
    }
   },
   "source": [
    "## Step 1: Loading a Random Customer Dataset"
   ]
  },
  {
   "cell_type": "code",
   "execution_count": 0,
   "metadata": {
    "application/vnd.databricks.v1+cell": {
     "cellMetadata": {
      "byteLimit": 2048000,
      "rowLimit": 10000
     },
     "inputWidgets": {},
     "nuid": "587107f9-811f-4c17-bb08-e47eb8e51bb7",
     "showTitle": false,
     "title": ""
    }
   },
   "outputs": [
    {
     "output_type": "stream",
     "name": "stdout",
     "output_type": "stream",
     "text": [
      "+----------+-------------+-------------+--------------------+\n|CustomerID|         Name|      Address|               Email|\n+----------+-------------+-------------+--------------------+\n|         1|     John Doe|   123 Elm St|    john@example.com|\n|         2|   Jane Smith|   456 Oak St|    jane@example.com|\n|         3|  Alice Brown|  789 Pine St|   alice@example.com|\n|         4|Charlie Black| 234 Maple St| charlie@example.com|\n|         5|    Eve White| 567 Birch St|     eve@example.com|\n|         6|     John Doe|   123 Elm St|   john2@example.com|\n|         7|   Jane Smith|   456 Oak St|   jane2@example.com|\n|         8|  Alice Brown|  789 Pine St|  alice2@example.com|\n|         9|Charlie Black| 234 Maple St|charlie2@example.com|\n|        10|    Eve White| 567 Birch St|    eve2@example.com|\n|        11|Michael Green| 890 Cedar St| michael@example.com|\n|        12|   Sarah Blue|678 Spruce St|   sarah@example.com|\n|        13|Michael Green| 890 Cedar St|michael2@example.com|\n|        14| Laura Purple|345 Poplar St|   laura@example.com|\n|        15| Laura Purple|345 Poplar St|  laura2@example.com|\n|        16|     John Doe|   123 Elm St|   john3@example.com|\n|        17|   Jane Smith|   456 Oak St|   jane3@example.com|\n|        18|  Alice Brown|  789 Pine St|  alice3@example.com|\n|        19|Charlie Black| 234 Maple St|charlie3@example.com|\n|        20|    Eve White| 567 Birch St|    eve3@example.com|\n+----------+-------------+-------------+--------------------+\nonly showing top 20 rows\n\n"
     ]
    }
   ],
   "source": [
    "# Load dataset into a DataFrame\n",
    "customer_df = spark.read.csv('/FileStore/tables/customer_dataset.csv', header=True, inferSchema=True)\n",
    "customer_df.show()"
   ]
  },
  {
   "cell_type": "markdown",
   "metadata": {
    "application/vnd.databricks.v1+cell": {
     "cellMetadata": {},
     "inputWidgets": {},
     "nuid": "fb3c7a58-2398-4b0e-8900-6f1a7d7a2af2",
     "showTitle": false,
     "title": ""
    }
   },
   "source": [
    "## Step 2: Identify Duplicate Customers Based on Name and Address"
   ]
  },
  {
   "cell_type": "code",
   "execution_count": 0,
   "metadata": {
    "application/vnd.databricks.v1+cell": {
     "cellMetadata": {
      "byteLimit": 2048000,
      "rowLimit": 10000
     },
     "inputWidgets": {},
     "nuid": "63cfb0ea-29f0-49fa-a492-445241c3b872",
     "showTitle": false,
     "title": ""
    }
   },
   "outputs": [
    {
     "output_type": "stream",
     "name": "stdout",
     "output_type": "stream",
     "text": [
      "+-------------+--------------+-----+\n|         Name|       Address|count|\n+-------------+--------------+-----+\n|Michael Green|  890 Cedar St|    5|\n|    Eve White|  567 Birch St|    3|\n|   Sarah Blue| 678 Spruce St|    2|\n|Charlie Black|  234 Maple St|    3|\n| Laura Purple| 345 Poplar St|    4|\n|    David Red|901 Hickory St|    2|\n|     John Doe|    123 Elm St|    3|\n|  Alice Brown|   789 Pine St|    3|\n|  Anna Yellow| 345 Poplar St|    2|\n|   Jane Smith|    456 Oak St|    3|\n+-------------+--------------+-----+\n\n"
     ]
    }
   ],
   "source": [
    "from pyspark.sql.functions import col, count\n",
    "\n",
    "# group by name and address and count occurences\n",
    "duplicates_df = customer_df.groupBy(\"Name\", \"Address\").count().filter(col(\"count\") > 1)\n",
    "duplicates_df.show()"
   ]
  },
  {
   "cell_type": "markdown",
   "metadata": {
    "application/vnd.databricks.v1+cell": {
     "cellMetadata": {},
     "inputWidgets": {},
     "nuid": "3a7b3226-c6ec-4eec-9d8e-c1036d7a56a1",
     "showTitle": false,
     "title": ""
    }
   },
   "source": [
    "## Assign Master ID to Matching Customers\n",
    "\n",
    "Entire code has been written below for clarity and can run as a independent cell\n"
   ]
  },
  {
   "cell_type": "code",
   "execution_count": 0,
   "metadata": {
    "application/vnd.databricks.v1+cell": {
     "cellMetadata": {
      "byteLimit": 2048000,
      "rowLimit": 10000
     },
     "inputWidgets": {},
     "nuid": "97b6ed05-36e8-477e-95b0-072af895f8b4",
     "showTitle": false,
     "title": ""
    }
   },
   "outputs": [
    {
     "output_type": "stream",
     "name": "stdout",
     "output_type": "stream",
     "text": [
      "Added Composite key :\n+----------+-------------+-------------+--------------------+--------------------+\n|CustomerID|         Name|      Address|               Email|        CompositeKey|\n+----------+-------------+-------------+--------------------+--------------------+\n|         1|     John Doe|   123 Elm St|    john@example.com| John Doe 123 Elm St|\n|         2|   Jane Smith|   456 Oak St|    jane@example.com|Jane Smith 456 Oa...|\n|         3|  Alice Brown|  789 Pine St|   alice@example.com|Alice Brown 789 P...|\n|         4|Charlie Black| 234 Maple St| charlie@example.com|Charlie Black 234...|\n|         5|    Eve White| 567 Birch St|     eve@example.com|Eve White 567 Bir...|\n|         6|     John Doe|   123 Elm St|   john2@example.com| John Doe 123 Elm St|\n|         7|   Jane Smith|   456 Oak St|   jane2@example.com|Jane Smith 456 Oa...|\n|         8|  Alice Brown|  789 Pine St|  alice2@example.com|Alice Brown 789 P...|\n|         9|Charlie Black| 234 Maple St|charlie2@example.com|Charlie Black 234...|\n|        10|    Eve White| 567 Birch St|    eve2@example.com|Eve White 567 Bir...|\n|        11|Michael Green| 890 Cedar St| michael@example.com|Michael Green 890...|\n|        12|   Sarah Blue|678 Spruce St|   sarah@example.com|Sarah Blue 678 Sp...|\n|        13|Michael Green| 890 Cedar St|michael2@example.com|Michael Green 890...|\n|        14| Laura Purple|345 Poplar St|   laura@example.com|Laura Purple 345 ...|\n|        15| Laura Purple|345 Poplar St|  laura2@example.com|Laura Purple 345 ...|\n|        16|     John Doe|   123 Elm St|   john3@example.com| John Doe 123 Elm St|\n|        17|   Jane Smith|   456 Oak St|   jane3@example.com|Jane Smith 456 Oa...|\n|        18|  Alice Brown|  789 Pine St|  alice3@example.com|Alice Brown 789 P...|\n|        19|Charlie Black| 234 Maple St|charlie3@example.com|Charlie Black 234...|\n|        20|    Eve White| 567 Birch St|    eve3@example.com|Eve White 567 Bir...|\n+----------+-------------+-------------+--------------------+--------------------+\nonly showing top 20 rows\n\nBelow are 2 variations of outputs with Master ID columns : \n+----------+-------------+--------------+--------+\n|CustomerID|         Name|       Address|MasterID|\n+----------+-------------+--------------+--------+\n|         3|  Alice Brown|   789 Pine St|       1|\n|         8|  Alice Brown|   789 Pine St|       2|\n|        18|  Alice Brown|   789 Pine St|       3|\n|        28|  Anna Yellow| 345 Poplar St|       1|\n|        29|  Anna Yellow| 345 Poplar St|       2|\n|         4|Charlie Black|  234 Maple St|       1|\n|         9|Charlie Black|  234 Maple St|       2|\n|        19|Charlie Black|  234 Maple St|       3|\n|        26|    David Red|901 Hickory St|       1|\n|        27|    David Red|901 Hickory St|       2|\n|         5|    Eve White|  567 Birch St|       1|\n|        10|    Eve White|  567 Birch St|       2|\n|        20|    Eve White|  567 Birch St|       3|\n|         2|   Jane Smith|    456 Oak St|       1|\n|         7|   Jane Smith|    456 Oak St|       2|\n|        17|   Jane Smith|    456 Oak St|       3|\n|         1|     John Doe|    123 Elm St|       1|\n|         6|     John Doe|    123 Elm St|       2|\n|        16|     John Doe|    123 Elm St|       3|\n|        14| Laura Purple| 345 Poplar St|       1|\n+----------+-------------+--------------+--------+\nonly showing top 20 rows\n\n+----------+-------------+-------------+--------------------+--------------------+--------+\n|CustomerID|         Name|      Address|               Email|        CompositeKey|MasterID|\n+----------+-------------+-------------+--------------------+--------------------+--------+\n|         1|     John Doe|   123 Elm St|    john@example.com| John Doe 123 Elm St|       1|\n|         2|   Jane Smith|   456 Oak St|    jane@example.com|Jane Smith 456 Oa...|       1|\n|         3|  Alice Brown|  789 Pine St|   alice@example.com|Alice Brown 789 P...|       1|\n|         4|Charlie Black| 234 Maple St| charlie@example.com|Charlie Black 234...|       1|\n|         5|    Eve White| 567 Birch St|     eve@example.com|Eve White 567 Bir...|       1|\n|         6|     John Doe|   123 Elm St|   john2@example.com| John Doe 123 Elm St|       2|\n|         7|   Jane Smith|   456 Oak St|   jane2@example.com|Jane Smith 456 Oa...|       2|\n|         8|  Alice Brown|  789 Pine St|  alice2@example.com|Alice Brown 789 P...|       2|\n|         9|Charlie Black| 234 Maple St|charlie2@example.com|Charlie Black 234...|       2|\n|        10|    Eve White| 567 Birch St|    eve2@example.com|Eve White 567 Bir...|       2|\n|        11|Michael Green| 890 Cedar St| michael@example.com|Michael Green 890...|       1|\n|        12|   Sarah Blue|678 Spruce St|   sarah@example.com|Sarah Blue 678 Sp...|       1|\n|        13|Michael Green| 890 Cedar St|michael2@example.com|Michael Green 890...|       2|\n|        14| Laura Purple|345 Poplar St|   laura@example.com|Laura Purple 345 ...|       1|\n|        15| Laura Purple|345 Poplar St|  laura2@example.com|Laura Purple 345 ...|       2|\n|        16|     John Doe|   123 Elm St|   john3@example.com| John Doe 123 Elm St|       3|\n|        17|   Jane Smith|   456 Oak St|   jane3@example.com|Jane Smith 456 Oa...|       3|\n|        18|  Alice Brown|  789 Pine St|  alice3@example.com|Alice Brown 789 P...|       3|\n|        19|Charlie Black| 234 Maple St|charlie3@example.com|Charlie Black 234...|       3|\n|        20|    Eve White| 567 Birch St|    eve3@example.com|Eve White 567 Bir...|       3|\n+----------+-------------+-------------+--------------------+--------------------+--------+\nonly showing top 20 rows\n\n"
     ]
    }
   ],
   "source": [
    "from pyspark.sql.functions import col, concat_ws, row_number, monotonically_increasing_id\n",
    "from pyspark.sql import Window\n",
    "\n",
    "# Initialize Spark session (if not already initialized), some website mention its automatically created when we open a notebook\n",
    "spark = SparkSession.builder \\\n",
    "    .appName(\"CustomerDeduplication\") \\\n",
    "    .getOrCreate()\n",
    "\n",
    "# Load dataset into a DataFrame\n",
    "customer_df = spark.read.csv('/FileStore/tables/customer_dataset.csv', header=True, inferSchema=True)\n",
    "\n",
    "# Replace null values if any in Name and Address columns with empty strings\n",
    "customer_df = customer_df.fillna({'Name': '', 'Address': ''})\n",
    "\n",
    "# Create a CompositeKey column by concatenating Name and Address\n",
    "customer_df_modified = customer_df.withColumn(\"CompositeKey\", concat_ws(' ', col(\"Name\"), col(\"Address\")))\n",
    "print(\"Added Composite key :\")\n",
    "customer_df_modified.show()\n",
    "\n",
    "# Use dense_rank to assign the same MasterID to duplicates\n",
    "windowSpec = Window.partitionBy(\"CompositeKey\").orderBy(monotonically_increasing_id())\n",
    "master_id_df = customer_df_modified.withColumn(\"MasterID\", row_number().over(windowSpec))\n",
    "\n",
    "\n",
    "print(\"Below are 2 variations of outputs with Master ID columns : \")\n",
    "# Select relevant columns\n",
    "result_df = master_id_df.select(\"CustomerID\", \"Name\", \"Address\", \"MasterID\")\n",
    "result_df.show()\n",
    "\n",
    "# Merge the MasterID back into the original dataset\n",
    "merged_df = customer_df_modified.join(result_df.select(\"CustomerID\", \"MasterID\"), on=\"CustomerID\", how=\"left\")\n",
    "merged_df.show()\n"
   ]
  }
 ],
 "metadata": {
  "application/vnd.databricks.v1+notebook": {
   "dashboards": [],
   "environmentMetadata": null,
   "language": "python",
   "notebookMetadata": {
    "pythonIndentUnit": 4
   },
   "notebookName": "Test Notebook 1 2024-07-20 21:34:30",
   "widgets": {}
  }
 },
 "nbformat": 4,
 "nbformat_minor": 0
}
